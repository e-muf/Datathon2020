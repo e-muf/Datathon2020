{
 "cells": [
  {
   "cell_type": "code",
   "execution_count": 1,
   "metadata": {},
   "outputs": [],
   "source": [
    "import pandas as pd\n",
    "import numpy as np\n",
    "from itertools import permutations"
   ]
  },
  {
   "cell_type": "code",
   "execution_count": 2,
   "metadata": {},
   "outputs": [
    {
     "data": {
      "text/html": [
       "<div>\n",
       "<style scoped>\n",
       "    .dataframe tbody tr th:only-of-type {\n",
       "        vertical-align: middle;\n",
       "    }\n",
       "\n",
       "    .dataframe tbody tr th {\n",
       "        vertical-align: top;\n",
       "    }\n",
       "\n",
       "    .dataframe thead th {\n",
       "        text-align: right;\n",
       "    }\n",
       "</style>\n",
       "<table border=\"1\" class=\"dataframe\">\n",
       "  <thead>\n",
       "    <tr style=\"text-align: right;\">\n",
       "      <th></th>\n",
       "      <th>id_article</th>\n",
       "      <th>author</th>\n",
       "    </tr>\n",
       "  </thead>\n",
       "  <tbody>\n",
       "    <tr>\n",
       "      <th>0</th>\n",
       "      <td>tr/gte/TR-0169-12-91-165</td>\n",
       "      <td>Frank Manola</td>\n",
       "    </tr>\n",
       "    <tr>\n",
       "      <th>1</th>\n",
       "      <td>tr/gte/TM-0332-11-90-165</td>\n",
       "      <td>Frank Manola</td>\n",
       "    </tr>\n",
       "    <tr>\n",
       "      <th>2</th>\n",
       "      <td>tr/gte/TM-0332-11-90-165</td>\n",
       "      <td>Mark F. Hornick</td>\n",
       "    </tr>\n",
       "    <tr>\n",
       "      <th>3</th>\n",
       "      <td>tr/gte/TM-0332-11-90-165</td>\n",
       "      <td>Alejandro P. Buchmann</td>\n",
       "    </tr>\n",
       "    <tr>\n",
       "      <th>4</th>\n",
       "      <td>tr/gte/TR-0263-08-94-165</td>\n",
       "      <td>Frank Manola</td>\n",
       "    </tr>\n",
       "  </tbody>\n",
       "</table>\n",
       "</div>"
      ],
      "text/plain": [
       "                 id_article                 author\n",
       "0  tr/gte/TR-0169-12-91-165           Frank Manola\n",
       "1  tr/gte/TM-0332-11-90-165           Frank Manola\n",
       "2  tr/gte/TM-0332-11-90-165        Mark F. Hornick\n",
       "3  tr/gte/TM-0332-11-90-165  Alejandro P. Buchmann\n",
       "4  tr/gte/TR-0263-08-94-165           Frank Manola"
      ]
     },
     "execution_count": 2,
     "metadata": {},
     "output_type": "execute_result"
    }
   ],
   "source": [
    "df = pd.read_csv('../Step_3_filtering_authorships/filtered_authorships.csv', index_col = 0)\n",
    "df.head()"
   ]
  },
  {
   "cell_type": "code",
   "execution_count": 3,
   "metadata": {},
   "outputs": [],
   "source": [
    "df = df.merge(df, how = 'inner', on = 'id_article')"
   ]
  },
  {
   "cell_type": "code",
   "execution_count": 4,
   "metadata": {},
   "outputs": [
    {
     "data": {
      "text/html": [
       "<div>\n",
       "<style scoped>\n",
       "    .dataframe tbody tr th:only-of-type {\n",
       "        vertical-align: middle;\n",
       "    }\n",
       "\n",
       "    .dataframe tbody tr th {\n",
       "        vertical-align: top;\n",
       "    }\n",
       "\n",
       "    .dataframe thead th {\n",
       "        text-align: right;\n",
       "    }\n",
       "</style>\n",
       "<table border=\"1\" class=\"dataframe\">\n",
       "  <thead>\n",
       "    <tr style=\"text-align: right;\">\n",
       "      <th></th>\n",
       "      <th>id_article</th>\n",
       "      <th>author_x</th>\n",
       "      <th>author_y</th>\n",
       "    </tr>\n",
       "  </thead>\n",
       "  <tbody>\n",
       "    <tr>\n",
       "      <th>0</th>\n",
       "      <td>tr/gte/TR-0169-12-91-165</td>\n",
       "      <td>Frank Manola</td>\n",
       "      <td>Frank Manola</td>\n",
       "    </tr>\n",
       "    <tr>\n",
       "      <th>1</th>\n",
       "      <td>tr/gte/TM-0332-11-90-165</td>\n",
       "      <td>Frank Manola</td>\n",
       "      <td>Frank Manola</td>\n",
       "    </tr>\n",
       "    <tr>\n",
       "      <th>2</th>\n",
       "      <td>tr/gte/TM-0332-11-90-165</td>\n",
       "      <td>Frank Manola</td>\n",
       "      <td>Mark F. Hornick</td>\n",
       "    </tr>\n",
       "    <tr>\n",
       "      <th>3</th>\n",
       "      <td>tr/gte/TM-0332-11-90-165</td>\n",
       "      <td>Frank Manola</td>\n",
       "      <td>Alejandro P. Buchmann</td>\n",
       "    </tr>\n",
       "    <tr>\n",
       "      <th>4</th>\n",
       "      <td>tr/gte/TM-0332-11-90-165</td>\n",
       "      <td>Mark F. Hornick</td>\n",
       "      <td>Frank Manola</td>\n",
       "    </tr>\n",
       "  </tbody>\n",
       "</table>\n",
       "</div>"
      ],
      "text/plain": [
       "                 id_article         author_x               author_y\n",
       "0  tr/gte/TR-0169-12-91-165     Frank Manola           Frank Manola\n",
       "1  tr/gte/TM-0332-11-90-165     Frank Manola           Frank Manola\n",
       "2  tr/gte/TM-0332-11-90-165     Frank Manola        Mark F. Hornick\n",
       "3  tr/gte/TM-0332-11-90-165     Frank Manola  Alejandro P. Buchmann\n",
       "4  tr/gte/TM-0332-11-90-165  Mark F. Hornick           Frank Manola"
      ]
     },
     "execution_count": 4,
     "metadata": {},
     "output_type": "execute_result"
    }
   ],
   "source": [
    "df.head()"
   ]
  },
  {
   "cell_type": "code",
   "execution_count": null,
   "metadata": {},
   "outputs": [],
   "source": []
  }
 ],
 "metadata": {
  "kernelspec": {
   "display_name": "Python 3",
   "language": "python",
   "name": "python3"
  },
  "language_info": {
   "codemirror_mode": {
    "name": "ipython",
    "version": 3
   },
   "file_extension": ".py",
   "mimetype": "text/x-python",
   "name": "python",
   "nbconvert_exporter": "python",
   "pygments_lexer": "ipython3",
   "version": "3.8.1"
  }
 },
 "nbformat": 4,
 "nbformat_minor": 2
}
