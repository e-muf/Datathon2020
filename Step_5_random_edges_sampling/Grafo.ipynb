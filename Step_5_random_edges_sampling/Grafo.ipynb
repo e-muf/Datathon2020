{
 "cells": [
  {
   "cell_type": "code",
   "execution_count": 1,
   "metadata": {},
   "outputs": [],
   "source": [
    "import networkx as nx\n",
    "import pandas as pd"
   ]
  },
  {
   "cell_type": "code",
   "execution_count": 2,
   "metadata": {},
   "outputs": [
    {
     "data": {
      "text/html": [
       "<div>\n",
       "<style scoped>\n",
       "    .dataframe tbody tr th:only-of-type {\n",
       "        vertical-align: middle;\n",
       "    }\n",
       "\n",
       "    .dataframe tbody tr th {\n",
       "        vertical-align: top;\n",
       "    }\n",
       "\n",
       "    .dataframe thead th {\n",
       "        text-align: right;\n",
       "    }\n",
       "</style>\n",
       "<table border=\"1\" class=\"dataframe\">\n",
       "  <thead>\n",
       "    <tr style=\"text-align: right;\">\n",
       "      <th></th>\n",
       "      <th>source</th>\n",
       "      <th>target</th>\n",
       "    </tr>\n",
       "  </thead>\n",
       "  <tbody>\n",
       "    <tr>\n",
       "      <td>0</td>\n",
       "      <td>Stephen P. DeWeerth</td>\n",
       "      <td>Gennady S. Cymbalyuk</td>\n",
       "    </tr>\n",
       "    <tr>\n",
       "      <td>1</td>\n",
       "      <td>Paul Mukherjee</td>\n",
       "      <td>Kim Sunesen</td>\n",
       "    </tr>\n",
       "    <tr>\n",
       "      <td>2</td>\n",
       "      <td>Francisco Gordillo</td>\n",
       "      <td>Aníbal Ollero</td>\n",
       "    </tr>\n",
       "    <tr>\n",
       "      <td>3</td>\n",
       "      <td>Michael F. P. O'Boyle</td>\n",
       "      <td>Christine Eisenbeis</td>\n",
       "    </tr>\n",
       "    <tr>\n",
       "      <td>4</td>\n",
       "      <td>Noel E. Sharkey</td>\n",
       "      <td>Stuart A. Jackson</td>\n",
       "    </tr>\n",
       "  </tbody>\n",
       "</table>\n",
       "</div>"
      ],
      "text/plain": [
       "                  source                target\n",
       "0    Stephen P. DeWeerth  Gennady S. Cymbalyuk\n",
       "1         Paul Mukherjee           Kim Sunesen\n",
       "2     Francisco Gordillo         Aníbal Ollero\n",
       "3  Michael F. P. O'Boyle   Christine Eisenbeis\n",
       "4        Noel E. Sharkey     Stuart A. Jackson"
      ]
     },
     "execution_count": 2,
     "metadata": {},
     "output_type": "execute_result"
    }
   ],
   "source": [
    "df = pd.read_csv('../Step_4_edges/edges.csv', index_col = 0)\n",
    "df.head()"
   ]
  },
  {
   "cell_type": "code",
   "execution_count": 3,
   "metadata": {},
   "outputs": [
    {
     "data": {
      "text/plain": [
       "(284654, 2)"
      ]
     },
     "execution_count": 3,
     "metadata": {},
     "output_type": "execute_result"
    }
   ],
   "source": [
    "df.shape"
   ]
  },
  {
   "cell_type": "code",
   "execution_count": 4,
   "metadata": {},
   "outputs": [
    {
     "name": "stdout",
     "output_type": "stream",
     "text": [
      "                   author\n",
      "0              A Min Tjoa\n",
      "1               A-Rum Jun\n",
      "2      A. A. (Louis) Beex\n",
      "3        A. A. Abouelsoud\n",
      "4              A. A. Ball\n",
      "...                   ...\n",
      "93907          Ülle Kotta\n",
      "93908         Ümit Aygölü\n",
      "93909          Ümit Bilge\n",
      "93910  Ümit V. Çatalyürek\n",
      "93911        Ümit Özgüner\n",
      "\n",
      "[93912 rows x 1 columns]\n"
     ]
    }
   ],
   "source": [
    "df_a = pd.read_csv('../Step_2_nodes_catalogue//nodes_catalogue.csv', index_col = 0) \n",
    "print(df_a)"
   ]
  },
  {
   "cell_type": "code",
   "execution_count": 5,
   "metadata": {},
   "outputs": [],
   "source": [
    "# Realiza un diccionario que asocia un autor con un id\n",
    "autores = df_a.to_dict(\"index\")"
   ]
  },
  {
   "cell_type": "code",
   "execution_count": 6,
   "metadata": {},
   "outputs": [],
   "source": [
    "# Cambia las claves por valores y viceversa\n",
    "def invertir(dicc):\n",
    "    inverso = {}\n",
    "    for item in dicc.items():\n",
    "        inverso[item[1]['author']] = item[0]\n",
    "    return inverso"
   ]
  },
  {
   "cell_type": "code",
   "execution_count": 7,
   "metadata": {},
   "outputs": [],
   "source": [
    "autores_lis=invertir(autores)"
   ]
  },
  {
   "cell_type": "code",
   "execution_count": 8,
   "metadata": {},
   "outputs": [],
   "source": [
    "# Devuelve una tupla con el id de los 2 autores\n",
    "def obtiene_id(autor1, autor2):\n",
    "    id1 = autores_lis[autor1]\n",
    "    id2 = autores_lis[autor2]\n",
    "    return (id1,id2)"
   ]
  },
  {
   "cell_type": "code",
   "execution_count": 9,
   "metadata": {},
   "outputs": [],
   "source": [
    "G = nx.Graph()\n",
    "lista = []\n",
    "for index,data in df.iterrows():\n",
    "    edges = obtiene_id(data['source'],data['target'])\n",
    "    # Quitar en la versión final\n",
    "    lista.append(edges)\n",
    "    G.add_nodes_from(edges)\n"
   ]
  },
  {
   "cell_type": "code",
   "execution_count": 10,
   "metadata": {},
   "outputs": [
    {
     "name": "stdout",
     "output_type": "stream",
     "text": [
      "(79559, 26197)\n",
      "(65081, 47158)\n",
      "(24170, 6052)\n",
      "(57484, 13267)\n",
      "(62378, 80140)\n",
      "(63560, 48630)\n",
      "(41204, 76586)\n",
      "(13782, 24608)\n",
      "(75588, 47798)\n",
      "(22463, 23371)\n",
      "(64392, 24822)\n",
      "(18417, 65064)\n",
      "(70217, 80414)\n",
      "(46487, 80712)\n",
      "(70227, 4934)\n",
      "(75220, 11383)\n",
      "(49885, 12953)\n",
      "(50891, 33130)\n",
      "(18063, 89499)\n",
      "(26776, 19439)\n",
      "(64545, 32468)\n",
      "(47305, 32113)\n",
      "(28505, 21670)\n",
      "(42777, 43589)\n",
      "(82588, 23644)\n",
      "(87991, 80951)\n",
      "(69725, 9686)\n",
      "(74721, 30736)\n",
      "(66493, 20459)\n",
      "(1597, 33618)\n",
      "(19822, 65765)\n",
      "(33710, 64730)\n",
      "(23240, 89498)\n",
      "(22233, 36522)\n",
      "(71986, 71012)\n",
      "(54827, 22412)\n",
      "(18411, 16961)\n",
      "(71448, 34096)\n",
      "(24892, 1697)\n",
      "(54611, 80827)\n",
      "(86757, 34850)\n",
      "(27944, 6756)\n",
      "(64255, 14318)\n",
      "(57909, 57716)\n",
      "(6430, 81118)\n",
      "(42060, 39445)\n",
      "(888, 70098)\n",
      "(45737, 91199)\n",
      "(59533, 12127)\n",
      "(75830, 38539)\n",
      "(50973, 3744)\n",
      "(84399, 74931)\n",
      "(40285, 31008)\n",
      "(65032, 56394)\n",
      "(73225, 45659)\n",
      "(60615, 70861)\n",
      "(10063, 14318)\n",
      "(37323, 29161)\n",
      "(58091, 8701)\n",
      "(49814, 17199)\n",
      "(52921, 89991)\n",
      "(10153, 79973)\n",
      "(10270, 23418)\n",
      "(78877, 34374)\n",
      "(69599, 23423)\n",
      "(53309, 10358)\n",
      "(93032, 85180)\n",
      "(83189, 45497)\n",
      "(14634, 84433)\n",
      "(56308, 83909)\n",
      "(78747, 39843)\n",
      "(33247, 72146)\n",
      "(20197, 76674)\n",
      "(65796, 43865)\n",
      "(48560, 37503)\n",
      "(23969, 5768)\n",
      "(74028, 32036)\n",
      "(46257, 10536)\n",
      "(67360, 1504)\n",
      "(5802, 22957)\n",
      "(2306, 76686)\n",
      "(32803, 32770)\n",
      "(54078, 25618)\n",
      "(67460, 35040)\n",
      "(83366, 27784)\n",
      "(79535, 7619)\n",
      "(33444, 3645)\n",
      "(12132, 87789)\n",
      "(7265, 67930)\n",
      "(74828, 78590)\n",
      "(14542, 16447)\n",
      "(76292, 61921)\n",
      "(1066, 73125)\n",
      "(71931, 28034)\n",
      "(47850, 60297)\n",
      "(92037, 27811)\n",
      "(68611, 72508)\n",
      "(21808, 11879)\n",
      "(78955, 53392)\n",
      "(11354, 65951)\n",
      "Tamaño de la lista: 284654\n"
     ]
    }
   ],
   "source": [
    "# Para verificar que los primeros 100 valores sean correctos\n",
    "for i in range(100):\n",
    "    print(lista[i])\n",
    "print(\"Tamaño de la lista: %d\" % len(lista))"
   ]
  },
  {
   "cell_type": "code",
   "execution_count": null,
   "metadata": {},
   "outputs": [],
   "source": []
  },
  {
   "cell_type": "code",
   "execution_count": null,
   "metadata": {},
   "outputs": [],
   "source": []
  }
 ],
 "metadata": {
  "kernelspec": {
   "display_name": "Python 3",
   "language": "python",
   "name": "python3"
  },
  "language_info": {
   "codemirror_mode": {
    "name": "ipython",
    "version": 3
   },
   "file_extension": ".py",
   "mimetype": "text/x-python",
   "name": "python",
   "nbconvert_exporter": "python",
   "pygments_lexer": "ipython3",
   "version": "3.7.4"
  }
 },
 "nbformat": 4,
 "nbformat_minor": 2
}
